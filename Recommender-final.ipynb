{
 "cells": [
  {
   "cell_type": "code",
   "execution_count": 1,
   "metadata": {},
   "outputs": [],
   "source": [
    "import json\n",
    "import csv\n",
    "import pandas as pd\n",
    "from collections import Counter\n",
    "from surprise import Reader, Dataset, SVD, KNNBasic, BaselineOnly, NMF, accuracy\n",
    "from surprise.model_selection import train_test_split\n",
    "from surprise.model_selection import GridSearchCV\n",
    "from surprise.model_selection import cross_validate\n",
    "import numpy as np\n",
    "import matplotlib.pyplot as plt\n",
    "from numpy import *\n",
    "from matplotlib import cycler"
   ]
  },
  {
   "cell_type": "code",
   "execution_count": null,
   "metadata": {},
   "outputs": [],
   "source": [
    "reviews = []\n",
    "for line in open(r'C:\\Users\\Adis\\Downloads\\FileSplitter/yelp_academic_dataset_review_1.json', encoding=\"utf8\"):\n",
    "    reviews.append(json.loads(line))\n",
    "    \n",
    "reviews2 = []\n",
    "for line in open(r'C:\\Users\\Adis\\Downloads\\FileSplitter/yelp_academic_dataset_review_2.json', encoding=\"utf8\"):\n",
    "    reviews2.append(json.loads(line))\n",
    "    \n",
    "reviews3 = []\n",
    "for line in open(r'C:\\Users\\Adis\\Downloads\\FileSplitter/yelp_academic_dataset_review_3.json', encoding=\"utf8\"):\n",
    "    reviews3.append(json.loads(line))"
   ]
  },
  {
   "cell_type": "code",
   "execution_count": 4,
   "metadata": {},
   "outputs": [],
   "source": [
    "businesses = []\n",
    "for line in open(r'C:\\Users\\Adis\\Downloads\\yelp_dataset/yelp_academic_dataset_business.json', encoding=\"utf8\"):\n",
    "    businesses.append(json.loads(line))"
   ]
  },
  {
   "cell_type": "code",
   "execution_count": 96,
   "metadata": {},
   "outputs": [],
   "source": [
    "photos = []\n",
    "for line in open(r'C:\\Users\\Adis\\Downloads\\photos\\yelp_photos\\photos.json', encoding=\"utf8\"):\n",
    "    photos.append(json.loads(line))"
   ]
  },
  {
   "cell_type": "code",
   "execution_count": 5,
   "metadata": {},
   "outputs": [
    {
     "data": {
      "text/plain": [
       "160470"
      ]
     },
     "execution_count": 5,
     "metadata": {},
     "output_type": "execute_result"
    }
   ],
   "source": [
    "categories = []\n",
    "for b in businesses:\n",
    "    if b['categories'] not in categories:\n",
    "        categories.append(b['categories'])\n",
    "\n",
    "withcategories = list(filter(lambda b: b['categories'] != None , businesses))\n",
    "len(withcategories)"
   ]
  },
  {
   "cell_type": "code",
   "execution_count": 7,
   "metadata": {},
   "outputs": [
    {
     "name": "stdout",
     "output_type": "stream",
     "text": [
      "160585\n",
      "63915\n",
      "51573\n",
      "3016\n"
     ]
    }
   ],
   "source": [
    "print(len(businesses))\n",
    "restaurants = list(filter(lambda b: 'food' in b['categories'].lower() or 'restaurant' in b['categories'].lower(), withcategories))\n",
    "print(len(restaurants))\n",
    "restaurants = list(filter(lambda b: b['review_count']>10, restaurants))\n",
    "print(len(restaurants))\n",
    "restaurants = list(filter(lambda b: b['city']=='Boston' , restaurants))\n",
    "print(len(restaurants))"
   ]
  },
  {
   "cell_type": "code",
   "execution_count": null,
   "metadata": {},
   "outputs": [],
   "source": [
    "restaurant_ids = [r['business_id'] for r in restaurants]"
   ]
  },
  {
   "cell_type": "code",
   "execution_count": null,
   "metadata": {},
   "outputs": [],
   "source": [
    "restaurant_reviews = list(filter(lambda r: r['business_id'] in restaurant_ids, reviews))\n",
    "print(len(restaurant_reviews))\n",
    "restaurant_reviews2 = list(filter(lambda r: r['business_id'] in restaurant_ids, reviews2))\n",
    "print(len(restaurant_reviews2))\n",
    "restaurant_reviews3 = list(filter(lambda r: r['business_id'] in restaurant_ids, reviews3))\n",
    "print(len(restaurant_reviews3))"
   ]
  },
  {
   "cell_type": "code",
   "execution_count": null,
   "metadata": {},
   "outputs": [],
   "source": [
    "restaurant_reviews = restaurant_reviews+restaurant_reviews2+restaurant_reviews3\n",
    "len(restaurant_reviews)"
   ]
  },
  {
   "cell_type": "code",
   "execution_count": null,
   "metadata": {},
   "outputs": [],
   "source": []
  },
  {
   "cell_type": "code",
   "execution_count": null,
   "metadata": {},
   "outputs": [],
   "source": []
  },
  {
   "cell_type": "code",
   "execution_count": null,
   "metadata": {},
   "outputs": [],
   "source": []
  },
  {
   "cell_type": "code",
   "execution_count": null,
   "metadata": {},
   "outputs": [],
   "source": [
    "cut = [(r['user_id'], r['business_id'], r['stars']) for r in restaurant_reviews]"
   ]
  },
  {
   "cell_type": "code",
   "execution_count": null,
   "metadata": {},
   "outputs": [],
   "source": [
    "data_file_review = open(r'ReviewsBoston.csv', 'w', encoding=\"utf8\", newline='')\n",
    "fieldnames_review = ['user_id','business_id','stars']\n",
    "csv_writer_review = csv.writer(data_file_review)\n",
    "csv_writer_review.writerow(fieldnames_review)\n",
    "for tup in cut:\n",
    "    # Writing data of CSV file\n",
    "    csv_writer_review.writerow(tup)\n",
    " \n",
    "data_file_business.close()"
   ]
  },
  {
   "cell_type": "code",
   "execution_count": 90,
   "metadata": {},
   "outputs": [],
   "source": [
    "data_file_business = open(r'business.csv', 'w', encoding=\"utf8\", newline='')\n",
    "fieldnames_business = ['business_id','name','address','city','latitude','longitude','stars','review_count','attributes','categories']\n",
    "csv_writer_business = csv.writer(data_file_business)\n",
    "csv_writer_business.writerow(fieldnames_business)\n",
    "for b in businesses:\n",
    "    # Writing data of CSV file\n",
    "    csv_writer_business.writerow([b['business_id'],b['name'],b['address'],b['city'],b['latitude'],b['longitude'],str(b['stars']),b['review_count'],b['attributes'],b['categories']])\n",
    " \n",
    "data_file_business.close()"
   ]
  },
  {
   "cell_type": "code",
   "execution_count": 93,
   "metadata": {},
   "outputs": [
    {
     "data": {
      "text/plain": [
       "{'business_id': 'R1sIqGfKpF5f3HV3vyNsbg',\n",
       " 'caption': 'Drinks! Front is beer obviously. The pink one is the blackberry lemonade and the yellow one is the spicy margarita they made',\n",
       " 'label': 'drink',\n",
       " 'photo_id': 'Un_Og6jfhazVn7CxszkKEw'}"
      ]
     },
     "execution_count": 93,
     "metadata": {},
     "output_type": "execute_result"
    }
   ],
   "source": [
    "photos[0]"
   ]
  },
  {
   "cell_type": "code",
   "execution_count": 94,
   "metadata": {},
   "outputs": [],
   "source": [
    "data_file_photo = open(r'photos.csv', 'w', encoding=\"utf8\", newline='')\n",
    "fieldnames_photo = ['photo_id','business_id','label','caption']\n",
    "csv_writer_photo = csv.writer(data_file_photo)\n",
    "csv_writer_photo.writerow(fieldnames_photo)\n",
    "for p in photos:\n",
    "    # Writing data of CSV file\n",
    "    csv_writer_photo.writerow([p['photo_id'],p['business_id'],p['label'],p['caption']])\n",
    " \n",
    "data_file_photo.close()"
   ]
  },
  {
   "cell_type": "code",
   "execution_count": null,
   "metadata": {},
   "outputs": [],
   "source": []
  },
  {
   "cell_type": "code",
   "execution_count": null,
   "metadata": {},
   "outputs": [],
   "source": []
  },
  {
   "cell_type": "code",
   "execution_count": 2,
   "metadata": {},
   "outputs": [
    {
     "data": {
      "text/html": [
       "<div>\n",
       "<style>\n",
       "    .dataframe thead tr:only-child th {\n",
       "        text-align: right;\n",
       "    }\n",
       "\n",
       "    .dataframe thead th {\n",
       "        text-align: left;\n",
       "    }\n",
       "\n",
       "    .dataframe tbody tr th {\n",
       "        vertical-align: top;\n",
       "    }\n",
       "</style>\n",
       "<table border=\"1\" class=\"dataframe\">\n",
       "  <thead>\n",
       "    <tr style=\"text-align: right;\">\n",
       "      <th></th>\n",
       "      <th>user_id</th>\n",
       "      <th>business_id</th>\n",
       "      <th>stars</th>\n",
       "    </tr>\n",
       "  </thead>\n",
       "  <tbody>\n",
       "    <tr>\n",
       "      <th>0</th>\n",
       "      <td>Q8c91v7luItVB0cMFF_mRA</td>\n",
       "      <td>EXOsmAB1s71WePlQk0WZrA</td>\n",
       "      <td>2.0</td>\n",
       "    </tr>\n",
       "    <tr>\n",
       "      <th>1</th>\n",
       "      <td>99RsBrARhhx60UnAC4yDoA</td>\n",
       "      <td>EEHhKSxUvJkoPSzeGKkpVg</td>\n",
       "      <td>5.0</td>\n",
       "    </tr>\n",
       "    <tr>\n",
       "      <th>2</th>\n",
       "      <td>ffJp-ZN80M4sSkDL8Ra18w</td>\n",
       "      <td>WDGeeyeK7bG0cvq_ZglAdA</td>\n",
       "      <td>1.0</td>\n",
       "    </tr>\n",
       "    <tr>\n",
       "      <th>3</th>\n",
       "      <td>LfyHQWb_kFyxbdNFb8kQGA</td>\n",
       "      <td>UAtX7xmIfdd1W2Pebf6NWg</td>\n",
       "      <td>1.0</td>\n",
       "    </tr>\n",
       "    <tr>\n",
       "      <th>4</th>\n",
       "      <td>UKU5x7fgNWzzdpCh3PqS0A</td>\n",
       "      <td>jhFi0oxdyiyCYK7i-CW59A</td>\n",
       "      <td>4.0</td>\n",
       "    </tr>\n",
       "  </tbody>\n",
       "</table>\n",
       "</div>"
      ],
      "text/plain": [
       "                  user_id             business_id  stars\n",
       "0  Q8c91v7luItVB0cMFF_mRA  EXOsmAB1s71WePlQk0WZrA    2.0\n",
       "1  99RsBrARhhx60UnAC4yDoA  EEHhKSxUvJkoPSzeGKkpVg    5.0\n",
       "2  ffJp-ZN80M4sSkDL8Ra18w  WDGeeyeK7bG0cvq_ZglAdA    1.0\n",
       "3  LfyHQWb_kFyxbdNFb8kQGA  UAtX7xmIfdd1W2Pebf6NWg    1.0\n",
       "4  UKU5x7fgNWzzdpCh3PqS0A  jhFi0oxdyiyCYK7i-CW59A    4.0"
      ]
     },
     "execution_count": 2,
     "metadata": {},
     "output_type": "execute_result"
    }
   ],
   "source": [
    "reviews = pd.read_csv('reviewsBoston.csv')\n",
    "reviews.head()"
   ]
  },
  {
   "cell_type": "code",
   "execution_count": 3,
   "metadata": {},
   "outputs": [
    {
     "data": {
      "text/plain": [
       "566398"
      ]
     },
     "execution_count": 3,
     "metadata": {},
     "output_type": "execute_result"
    }
   ],
   "source": [
    "len(reviews)"
   ]
  },
  {
   "cell_type": "code",
   "execution_count": 5,
   "metadata": {},
   "outputs": [
    {
     "name": "stdout",
     "output_type": "stream",
     "text": [
      "211057\n",
      "8197\n",
      "177246\n"
     ]
    }
   ],
   "source": [
    "users = reviews['user_id']\n",
    "unique_users = list(set(users))\n",
    "print(len(unique_users))\n",
    "\n",
    "user_count = dict(Counter(users))\n",
    "\n",
    "over10 = {x : user_count[x] for x in user_count if user_count[x] >= 10 }\n",
    "print(len(over10))\n",
    "\n",
    "users10 = list(over10)\n",
    "ten_reviews = list(filter(lambda r: reviews['user_id'][r] in users10, range(0,len(reviews))))\n",
    "\n",
    "print(len(ten_reviews))"
   ]
  },
  {
   "cell_type": "code",
   "execution_count": null,
   "metadata": {},
   "outputs": [],
   "source": []
  },
  {
   "cell_type": "code",
   "execution_count": 45,
   "metadata": {},
   "outputs": [
    {
     "name": "stdout",
     "output_type": "stream",
     "text": [
      "3016\n",
      "3016\n"
     ]
    }
   ],
   "source": [
    "restaurants = reviews['business_id']\n",
    "unique_restaurants = list(set(restaurants))\n",
    "print(len(unique_restaurants))\n",
    "\n",
    "restaurant_count = dict(Counter(restaurants))\n",
    "\n",
    "over10_restaurants = {x : restaurant_count[x] for x in restaurant_count if restaurant_count[x] >= 10 }\n",
    "print(len(over10_restaurants))"
   ]
  },
  {
   "cell_type": "code",
   "execution_count": 102,
   "metadata": {},
   "outputs": [
    {
     "data": {
      "text/plain": [
       "array(['drink', 'food', 'interior', 'outside', 'menu'], dtype=object)"
      ]
     },
     "execution_count": 102,
     "metadata": {},
     "output_type": "execute_result"
    }
   ],
   "source": [
    "photos = pd.read_csv('photos.csv')\n",
    "photos['label'].unique()"
   ]
  },
  {
   "cell_type": "code",
   "execution_count": 114,
   "metadata": {},
   "outputs": [],
   "source": [
    "labels = photos['label']\n",
    "unique_labels = list(set(labels))\n",
    "\n",
    "label_count = dict(Counter(labels))"
   ]
  },
  {
   "cell_type": "code",
   "execution_count": 117,
   "metadata": {},
   "outputs": [
    {
     "data": {
      "text/plain": [
       "{'drink': 40000,\n",
       " 'food': 40000,\n",
       " 'interior': 40000,\n",
       " 'menu': 40000,\n",
       " 'outside': 40000}"
      ]
     },
     "execution_count": 117,
     "metadata": {},
     "output_type": "execute_result"
    }
   ],
   "source": [
    "label_count"
   ]
  },
  {
   "cell_type": "code",
   "execution_count": null,
   "metadata": {},
   "outputs": [],
   "source": []
  },
  {
   "cell_type": "code",
   "execution_count": 75,
   "metadata": {},
   "outputs": [
    {
     "name": "stdout",
     "output_type": "stream",
     "text": [
      "728\n"
     ]
    },
    {
     "data": {
      "image/png": "[encoded data removed]",
      "text/plain": [
       "<matplotlib.figure.Figure at 0x230ff3db198>"
      ]
     },
     "metadata": {},
     "output_type": "display_data"
    }
   ],
   "source": [
    "review_count = []\n",
    "for u in users:\n",
    "    review_count.append(user_count[u])\n",
    "    \n",
    "plt.rcParams['figure.figsize'] = [12, 7]\n",
    "plt.hist(review_count,bins=[0,10,20,30,40,50,60,70,80,90,100,110,120],edgecolor='white', linewidth=1)\n",
    "print(max(review_count))"
   ]
  },
  {
   "cell_type": "code",
   "execution_count": 72,
   "metadata": {},
   "outputs": [],
   "source": [
    "review_count = []\n",
    "for r in restaurants:\n",
    "    review_count.append(restaurant_count[r])"
   ]
  },
  {
   "cell_type": "code",
   "execution_count": 73,
   "metadata": {},
   "outputs": [
    {
     "name": "stdout",
     "output_type": "stream",
     "text": [
      "7385\n"
     ]
    },
    {
     "data": {
      "image/png": "[encoded data removed]",
      "text/plain": [
       "<matplotlib.figure.Figure at 0x230830ee550>"
      ]
     },
     "metadata": {},
     "output_type": "display_data"
    }
   ],
   "source": [
    "plt.rcParams['figure.figsize'] = [11, 6]\n",
    "plt.hist(review_count,bins=[0,10,20,30,40,50,60,70,80,90,100],edgecolor='white', linewidth=1)\n",
    "print(max(review_count))"
   ]
  },
  {
   "cell_type": "code",
   "execution_count": 74,
   "metadata": {},
   "outputs": [
    {
     "name": "stdout",
     "output_type": "stream",
     "text": [
      "7385\n"
     ]
    },
    {
     "data": {
      "image/png": "[encoded data removed]",
      "text/plain": [
       "<matplotlib.figure.Figure at 0x23083023898>"
      ]
     },
     "metadata": {},
     "output_type": "display_data"
    }
   ],
   "source": [
    "plt.rcParams['figure.figsize'] = [11, 6]\n",
    "plt.hist(review_count,bins=[0,100,200,300,400,500,600,700,800,900,1000,1100,1200,1300,1400,1500,1600,1700,1800,1900,2000],edgecolor='white', linewidth=1)\n",
    "print(max(review_count))"
   ]
  },
  {
   "cell_type": "code",
   "execution_count": 80,
   "metadata": {},
   "outputs": [
    {
     "data": {
      "text/plain": [
       "(array([ 59335.,  55542.,  85302., 366219.]),\n",
       " array([1, 2, 3, 4, 5]),\n",
       " <a list of 4 Patch objects>)"
      ]
     },
     "execution_count": 80,
     "metadata": {},
     "output_type": "execute_result"
    },
    {
     "data": {
      "image/png": "[encoded data removed]",
      "text/plain": [
       "<matplotlib.figure.Figure at 0x230831b2ef0>"
      ]
     },
     "metadata": {},
     "output_type": "display_data"
    }
   ],
   "source": [
    "plt.rcParams['figure.figsize'] = [8, 7]\n",
    "plt.hist(reviews['stars'],bins=[1,2,3,4,5],edgecolor='white', linewidth=10)"
   ]
  },
  {
   "cell_type": "code",
   "execution_count": null,
   "metadata": {},
   "outputs": [],
   "source": []
  },
  {
   "cell_type": "code",
   "execution_count": null,
   "metadata": {},
   "outputs": [],
   "source": []
  },
  {
   "cell_type": "code",
   "execution_count": null,
   "metadata": {},
   "outputs": [],
   "source": []
  },
  {
   "cell_type": "code",
   "execution_count": 8,
   "metadata": {},
   "outputs": [
    {
     "name": "stdout",
     "output_type": "stream",
     "text": [
      "177246\n"
     ]
    },
    {
     "data": {
      "text/html": [
       "<div>\n",
       "<style>\n",
       "    .dataframe thead tr:only-child th {\n",
       "        text-align: right;\n",
       "    }\n",
       "\n",
       "    .dataframe thead th {\n",
       "        text-align: left;\n",
       "    }\n",
       "\n",
       "    .dataframe tbody tr th {\n",
       "        vertical-align: top;\n",
       "    }\n",
       "</style>\n",
       "<table border=\"1\" class=\"dataframe\">\n",
       "  <thead>\n",
       "    <tr style=\"text-align: right;\">\n",
       "      <th></th>\n",
       "      <th>user_id</th>\n",
       "      <th>business_id</th>\n",
       "      <th>stars</th>\n",
       "    </tr>\n",
       "  </thead>\n",
       "  <tbody>\n",
       "    <tr>\n",
       "      <th>3</th>\n",
       "      <td>LfyHQWb_kFyxbdNFb8kQGA</td>\n",
       "      <td>UAtX7xmIfdd1W2Pebf6NWg</td>\n",
       "      <td>1.0</td>\n",
       "    </tr>\n",
       "    <tr>\n",
       "      <th>7</th>\n",
       "      <td>_qeS-wNr5HCs8cIxp1-BLQ</td>\n",
       "      <td>4mmKcjlUWF3NTjtgrmBMFQ</td>\n",
       "      <td>4.0</td>\n",
       "    </tr>\n",
       "    <tr>\n",
       "      <th>9</th>\n",
       "      <td>0DmuCPKJ5l4otcf5ar_sew</td>\n",
       "      <td>72PQGMhrEcIuWH-S44TprA</td>\n",
       "      <td>4.0</td>\n",
       "    </tr>\n",
       "    <tr>\n",
       "      <th>14</th>\n",
       "      <td>dUOZB3F9187M8UjbAxTAkQ</td>\n",
       "      <td>Oj5Seggqo_2FfKSjcAg7yw</td>\n",
       "      <td>3.0</td>\n",
       "    </tr>\n",
       "    <tr>\n",
       "      <th>15</th>\n",
       "      <td>K7DGRGHyyG1Cy-IsKJeP8Q</td>\n",
       "      <td>nzyu4lcjIOH_zPMlaPbmrw</td>\n",
       "      <td>4.0</td>\n",
       "    </tr>\n",
       "  </tbody>\n",
       "</table>\n",
       "</div>"
      ],
      "text/plain": [
       "                   user_id             business_id  stars\n",
       "3   LfyHQWb_kFyxbdNFb8kQGA  UAtX7xmIfdd1W2Pebf6NWg    1.0\n",
       "7   _qeS-wNr5HCs8cIxp1-BLQ  4mmKcjlUWF3NTjtgrmBMFQ    4.0\n",
       "9   0DmuCPKJ5l4otcf5ar_sew  72PQGMhrEcIuWH-S44TprA    4.0\n",
       "14  dUOZB3F9187M8UjbAxTAkQ  Oj5Seggqo_2FfKSjcAg7yw    3.0\n",
       "15  K7DGRGHyyG1Cy-IsKJeP8Q  nzyu4lcjIOH_zPMlaPbmrw    4.0"
      ]
     },
     "execution_count": 8,
     "metadata": {},
     "output_type": "execute_result"
    }
   ],
   "source": [
    "ten_reviews_df = reviews.iloc[ten_reviews]\n",
    "print(len(ten_reviews_df))\n",
    "ten_reviews_df.head()"
   ]
  },
  {
   "cell_type": "code",
   "execution_count": null,
   "metadata": {},
   "outputs": [],
   "source": []
  },
  {
   "cell_type": "code",
   "execution_count": 81,
   "metadata": {},
   "outputs": [],
   "source": [
    "ratings=ten_reviews_df\n",
    "\n",
    "ratings_dict = {'itemID': list(ratings.business_id),\n",
    "                'userID': list(ratings.user_id),\n",
    "                'rating': list(ratings.stars)}\n",
    "\n",
    "df = pd.DataFrame(ratings_dict)"
   ]
  },
  {
   "cell_type": "code",
   "execution_count": 82,
   "metadata": {},
   "outputs": [],
   "source": [
    "reader = Reader(rating_scale=(0.0, 5.0))\n",
    "\n",
    "data_original = Dataset.load_from_df(df[['userID', 'itemID', 'rating']], reader)"
   ]
  },
  {
   "cell_type": "code",
   "execution_count": 83,
   "metadata": {},
   "outputs": [
    {
     "data": {
      "text/html": [
       "<div>\n",
       "<style>\n",
       "    .dataframe thead tr:only-child th {\n",
       "        text-align: right;\n",
       "    }\n",
       "\n",
       "    .dataframe thead th {\n",
       "        text-align: left;\n",
       "    }\n",
       "\n",
       "    .dataframe tbody tr th {\n",
       "        vertical-align: top;\n",
       "    }\n",
       "</style>\n",
       "<table border=\"1\" class=\"dataframe\">\n",
       "  <thead>\n",
       "    <tr style=\"text-align: right;\">\n",
       "      <th></th>\n",
       "      <th>mean_fit_time</th>\n",
       "      <th>mean_test_mae</th>\n",
       "      <th>mean_test_rmse</th>\n",
       "      <th>mean_test_time</th>\n",
       "      <th>param_biased</th>\n",
       "      <th>param_lr_all</th>\n",
       "      <th>params</th>\n",
       "      <th>rank_test_mae</th>\n",
       "      <th>rank_test_rmse</th>\n",
       "      <th>split0_test_mae</th>\n",
       "      <th>...</th>\n",
       "      <th>split1_test_mae</th>\n",
       "      <th>split1_test_rmse</th>\n",
       "      <th>split2_test_mae</th>\n",
       "      <th>split2_test_rmse</th>\n",
       "      <th>split3_test_mae</th>\n",
       "      <th>split3_test_rmse</th>\n",
       "      <th>std_fit_time</th>\n",
       "      <th>std_test_mae</th>\n",
       "      <th>std_test_rmse</th>\n",
       "      <th>std_test_time</th>\n",
       "    </tr>\n",
       "  </thead>\n",
       "  <tbody>\n",
       "    <tr>\n",
       "      <th>0</th>\n",
       "      <td>10.771829</td>\n",
       "      <td>0.789615</td>\n",
       "      <td>1.002596</td>\n",
       "      <td>0.452377</td>\n",
       "      <td>True</td>\n",
       "      <td>0.005</td>\n",
       "      <td>{'lr_all': 0.005, 'biased': True}</td>\n",
       "      <td>1</td>\n",
       "      <td>1</td>\n",
       "      <td>0.786500</td>\n",
       "      <td>...</td>\n",
       "      <td>0.792628</td>\n",
       "      <td>1.005963</td>\n",
       "      <td>0.792969</td>\n",
       "      <td>1.007823</td>\n",
       "      <td>0.786364</td>\n",
       "      <td>0.998229</td>\n",
       "      <td>0.146487</td>\n",
       "      <td>0.003186</td>\n",
       "      <td>0.004348</td>\n",
       "      <td>0.053754</td>\n",
       "    </tr>\n",
       "    <tr>\n",
       "      <th>1</th>\n",
       "      <td>11.328597</td>\n",
       "      <td>0.928433</td>\n",
       "      <td>1.161599</td>\n",
       "      <td>0.413412</td>\n",
       "      <td>False</td>\n",
       "      <td>0.005</td>\n",
       "      <td>{'lr_all': 0.005, 'biased': False}</td>\n",
       "      <td>2</td>\n",
       "      <td>2</td>\n",
       "      <td>0.925468</td>\n",
       "      <td>...</td>\n",
       "      <td>0.927431</td>\n",
       "      <td>1.158525</td>\n",
       "      <td>0.933621</td>\n",
       "      <td>1.170051</td>\n",
       "      <td>0.927210</td>\n",
       "      <td>1.159589</td>\n",
       "      <td>0.170348</td>\n",
       "      <td>0.003091</td>\n",
       "      <td>0.004906</td>\n",
       "      <td>0.057912</td>\n",
       "    </tr>\n",
       "  </tbody>\n",
       "</table>\n",
       "<p>2 rows × 21 columns</p>\n",
       "</div>"
      ],
      "text/plain": [
       "   mean_fit_time  mean_test_mae  mean_test_rmse  mean_test_time  param_biased  \\\n",
       "0      10.771829       0.789615        1.002596        0.452377          True   \n",
       "1      11.328597       0.928433        1.161599        0.413412         False   \n",
       "\n",
       "   param_lr_all                              params  rank_test_mae  \\\n",
       "0         0.005   {'lr_all': 0.005, 'biased': True}              1   \n",
       "1         0.005  {'lr_all': 0.005, 'biased': False}              2   \n",
       "\n",
       "   rank_test_rmse  split0_test_mae      ...        split1_test_mae  \\\n",
       "0               1         0.786500      ...               0.792628   \n",
       "1               2         0.925468      ...               0.927431   \n",
       "\n",
       "   split1_test_rmse  split2_test_mae  split2_test_rmse  split3_test_mae  \\\n",
       "0          1.005963         0.792969          1.007823         0.786364   \n",
       "1          1.158525         0.933621          1.170051         0.927210   \n",
       "\n",
       "   split3_test_rmse  std_fit_time  std_test_mae  std_test_rmse  std_test_time  \n",
       "0          0.998229      0.146487      0.003186       0.004348       0.053754  \n",
       "1          1.159589      0.170348      0.003091       0.004906       0.057912  \n",
       "\n",
       "[2 rows x 21 columns]"
      ]
     },
     "execution_count": 83,
     "metadata": {},
     "output_type": "execute_result"
    }
   ],
   "source": [
    "#tuning biased\n",
    "param_grid = {'biased': [True,False], 'lr_all': [0.005]}\n",
    "gs = GridSearchCV(SVD, param_grid, measures=['rmse', 'mae'], cv=4)\n",
    "\n",
    "gs.fit(data_original)\n",
    "\n",
    "results_df = pd.DataFrame.from_dict(gs.cv_results)\n",
    "results_df.to_csv('results.csv')\n",
    "\n",
    "results_df"
   ]
  },
  {
   "cell_type": "code",
   "execution_count": 84,
   "metadata": {},
   "outputs": [
    {
     "data": {
      "text/html": [
       "<div>\n",
       "<style>\n",
       "    .dataframe thead tr:only-child th {\n",
       "        text-align: right;\n",
       "    }\n",
       "\n",
       "    .dataframe thead th {\n",
       "        text-align: left;\n",
       "    }\n",
       "\n",
       "    .dataframe tbody tr th {\n",
       "        vertical-align: top;\n",
       "    }\n",
       "</style>\n",
       "<table border=\"1\" class=\"dataframe\">\n",
       "  <thead>\n",
       "    <tr style=\"text-align: right;\">\n",
       "      <th></th>\n",
       "      <th>mean_fit_time</th>\n",
       "      <th>mean_test_mae</th>\n",
       "      <th>mean_test_rmse</th>\n",
       "      <th>mean_test_time</th>\n",
       "      <th>param_biased</th>\n",
       "      <th>param_lr_all</th>\n",
       "      <th>params</th>\n",
       "      <th>rank_test_mae</th>\n",
       "      <th>rank_test_rmse</th>\n",
       "      <th>split0_test_mae</th>\n",
       "      <th>...</th>\n",
       "      <th>split1_test_mae</th>\n",
       "      <th>split1_test_rmse</th>\n",
       "      <th>split2_test_mae</th>\n",
       "      <th>split2_test_rmse</th>\n",
       "      <th>split3_test_mae</th>\n",
       "      <th>split3_test_rmse</th>\n",
       "      <th>std_fit_time</th>\n",
       "      <th>std_test_mae</th>\n",
       "      <th>std_test_rmse</th>\n",
       "      <th>std_test_time</th>\n",
       "    </tr>\n",
       "  </thead>\n",
       "  <tbody>\n",
       "    <tr>\n",
       "      <th>0</th>\n",
       "      <td>11.656996</td>\n",
       "      <td>0.807833</td>\n",
       "      <td>1.019436</td>\n",
       "      <td>0.478378</td>\n",
       "      <td>True</td>\n",
       "      <td>0.001</td>\n",
       "      <td>{'lr_all': 0.001, 'biased': True}</td>\n",
       "      <td>3</td>\n",
       "      <td>2</td>\n",
       "      <td>0.806247</td>\n",
       "      <td>...</td>\n",
       "      <td>0.805629</td>\n",
       "      <td>1.016285</td>\n",
       "      <td>0.808371</td>\n",
       "      <td>1.018902</td>\n",
       "      <td>0.811083</td>\n",
       "      <td>1.024709</td>\n",
       "      <td>0.188531</td>\n",
       "      <td>0.002134</td>\n",
       "      <td>0.003183</td>\n",
       "      <td>0.063880</td>\n",
       "    </tr>\n",
       "    <tr>\n",
       "      <th>1</th>\n",
       "      <td>11.511285</td>\n",
       "      <td>0.789713</td>\n",
       "      <td>1.002759</td>\n",
       "      <td>0.436782</td>\n",
       "      <td>True</td>\n",
       "      <td>0.005</td>\n",
       "      <td>{'lr_all': 0.005, 'biased': True}</td>\n",
       "      <td>1</td>\n",
       "      <td>1</td>\n",
       "      <td>0.788711</td>\n",
       "      <td>...</td>\n",
       "      <td>0.788339</td>\n",
       "      <td>1.002517</td>\n",
       "      <td>0.788384</td>\n",
       "      <td>1.000079</td>\n",
       "      <td>0.793416</td>\n",
       "      <td>1.007473</td>\n",
       "      <td>0.521902</td>\n",
       "      <td>0.002143</td>\n",
       "      <td>0.002858</td>\n",
       "      <td>0.070474</td>\n",
       "    </tr>\n",
       "    <tr>\n",
       "      <th>2</th>\n",
       "      <td>11.181293</td>\n",
       "      <td>0.806493</td>\n",
       "      <td>1.030267</td>\n",
       "      <td>0.499093</td>\n",
       "      <td>True</td>\n",
       "      <td>0.010</td>\n",
       "      <td>{'lr_all': 0.01, 'biased': True}</td>\n",
       "      <td>2</td>\n",
       "      <td>3</td>\n",
       "      <td>0.806841</td>\n",
       "      <td>...</td>\n",
       "      <td>0.805193</td>\n",
       "      <td>1.029422</td>\n",
       "      <td>0.804384</td>\n",
       "      <td>1.026439</td>\n",
       "      <td>0.809554</td>\n",
       "      <td>1.033824</td>\n",
       "      <td>0.221698</td>\n",
       "      <td>0.001977</td>\n",
       "      <td>0.002705</td>\n",
       "      <td>0.038766</td>\n",
       "    </tr>\n",
       "  </tbody>\n",
       "</table>\n",
       "<p>3 rows × 21 columns</p>\n",
       "</div>"
      ],
      "text/plain": [
       "   mean_fit_time  mean_test_mae  mean_test_rmse  mean_test_time  param_biased  \\\n",
       "0      11.656996       0.807833        1.019436        0.478378          True   \n",
       "1      11.511285       0.789713        1.002759        0.436782          True   \n",
       "2      11.181293       0.806493        1.030267        0.499093          True   \n",
       "\n",
       "   param_lr_all                             params  rank_test_mae  \\\n",
       "0         0.001  {'lr_all': 0.001, 'biased': True}              3   \n",
       "1         0.005  {'lr_all': 0.005, 'biased': True}              1   \n",
       "2         0.010   {'lr_all': 0.01, 'biased': True}              2   \n",
       "\n",
       "   rank_test_rmse  split0_test_mae      ...        split1_test_mae  \\\n",
       "0               2         0.806247      ...               0.805629   \n",
       "1               1         0.788711      ...               0.788339   \n",
       "2               3         0.806841      ...               0.805193   \n",
       "\n",
       "   split1_test_rmse  split2_test_mae  split2_test_rmse  split3_test_mae  \\\n",
       "0          1.016285         0.808371          1.018902         0.811083   \n",
       "1          1.002517         0.788384          1.000079         0.793416   \n",
       "2          1.029422         0.804384          1.026439         0.809554   \n",
       "\n",
       "   split3_test_rmse  std_fit_time  std_test_mae  std_test_rmse  std_test_time  \n",
       "0          1.024709      0.188531      0.002134       0.003183       0.063880  \n",
       "1          1.007473      0.521902      0.002143       0.002858       0.070474  \n",
       "2          1.033824      0.221698      0.001977       0.002705       0.038766  \n",
       "\n",
       "[3 rows x 21 columns]"
      ]
     },
     "execution_count": 84,
     "metadata": {},
     "output_type": "execute_result"
    }
   ],
   "source": [
    "#tuning learning rate\n",
    "param_grid = {'biased': [True], 'lr_all': [0.001,0.005,0.01]}\n",
    "gs = GridSearchCV(SVD, param_grid, measures=['rmse', 'mae'], cv=4)\n",
    "\n",
    "gs.fit(data_original)\n",
    "\n",
    "results_df = pd.DataFrame.from_dict(gs.cv_results)\n",
    "results_df.to_csv('results.csv')\n",
    "\n",
    "results_df"
   ]
  },
  {
   "cell_type": "code",
   "execution_count": 85,
   "metadata": {},
   "outputs": [
    {
     "data": {
      "text/html": [
       "<div>\n",
       "<style>\n",
       "    .dataframe thead tr:only-child th {\n",
       "        text-align: right;\n",
       "    }\n",
       "\n",
       "    .dataframe thead th {\n",
       "        text-align: left;\n",
       "    }\n",
       "\n",
       "    .dataframe tbody tr th {\n",
       "        vertical-align: top;\n",
       "    }\n",
       "</style>\n",
       "<table border=\"1\" class=\"dataframe\">\n",
       "  <thead>\n",
       "    <tr style=\"text-align: right;\">\n",
       "      <th></th>\n",
       "      <th>mean_fit_time</th>\n",
       "      <th>mean_test_mae</th>\n",
       "      <th>mean_test_rmse</th>\n",
       "      <th>mean_test_time</th>\n",
       "      <th>param_biased</th>\n",
       "      <th>param_lr_all</th>\n",
       "      <th>params</th>\n",
       "      <th>rank_test_mae</th>\n",
       "      <th>rank_test_rmse</th>\n",
       "      <th>split0_test_mae</th>\n",
       "      <th>...</th>\n",
       "      <th>split1_test_mae</th>\n",
       "      <th>split1_test_rmse</th>\n",
       "      <th>split2_test_mae</th>\n",
       "      <th>split2_test_rmse</th>\n",
       "      <th>split3_test_mae</th>\n",
       "      <th>split3_test_rmse</th>\n",
       "      <th>std_fit_time</th>\n",
       "      <th>std_test_mae</th>\n",
       "      <th>std_test_rmse</th>\n",
       "      <th>std_test_time</th>\n",
       "    </tr>\n",
       "  </thead>\n",
       "  <tbody>\n",
       "    <tr>\n",
       "      <th>0</th>\n",
       "      <td>11.532697</td>\n",
       "      <td>0.789348</td>\n",
       "      <td>1.001163</td>\n",
       "      <td>0.554731</td>\n",
       "      <td>True</td>\n",
       "      <td>0.004</td>\n",
       "      <td>{'lr_all': 0.004, 'biased': True}</td>\n",
       "      <td>1</td>\n",
       "      <td>1</td>\n",
       "      <td>0.790500</td>\n",
       "      <td>...</td>\n",
       "      <td>0.787480</td>\n",
       "      <td>0.998988</td>\n",
       "      <td>0.792672</td>\n",
       "      <td>1.004888</td>\n",
       "      <td>0.786738</td>\n",
       "      <td>0.998761</td>\n",
       "      <td>0.173237</td>\n",
       "      <td>0.002381</td>\n",
       "      <td>0.002505</td>\n",
       "      <td>0.061423</td>\n",
       "    </tr>\n",
       "    <tr>\n",
       "      <th>1</th>\n",
       "      <td>11.506467</td>\n",
       "      <td>0.793887</td>\n",
       "      <td>1.008541</td>\n",
       "      <td>0.484650</td>\n",
       "      <td>True</td>\n",
       "      <td>0.006</td>\n",
       "      <td>{'lr_all': 0.006, 'biased': True}</td>\n",
       "      <td>2</td>\n",
       "      <td>2</td>\n",
       "      <td>0.795748</td>\n",
       "      <td>...</td>\n",
       "      <td>0.792210</td>\n",
       "      <td>1.007129</td>\n",
       "      <td>0.796632</td>\n",
       "      <td>1.011620</td>\n",
       "      <td>0.790959</td>\n",
       "      <td>1.005535</td>\n",
       "      <td>0.118091</td>\n",
       "      <td>0.002365</td>\n",
       "      <td>0.002361</td>\n",
       "      <td>0.074155</td>\n",
       "    </tr>\n",
       "    <tr>\n",
       "      <th>2</th>\n",
       "      <td>11.257950</td>\n",
       "      <td>0.800257</td>\n",
       "      <td>1.019294</td>\n",
       "      <td>0.461989</td>\n",
       "      <td>True</td>\n",
       "      <td>0.008</td>\n",
       "      <td>{'lr_all': 0.008, 'biased': True}</td>\n",
       "      <td>3</td>\n",
       "      <td>3</td>\n",
       "      <td>0.801708</td>\n",
       "      <td>...</td>\n",
       "      <td>0.797401</td>\n",
       "      <td>1.015323</td>\n",
       "      <td>0.802754</td>\n",
       "      <td>1.022607</td>\n",
       "      <td>0.799165</td>\n",
       "      <td>1.018530</td>\n",
       "      <td>0.114607</td>\n",
       "      <td>0.002103</td>\n",
       "      <td>0.002709</td>\n",
       "      <td>0.059586</td>\n",
       "    </tr>\n",
       "  </tbody>\n",
       "</table>\n",
       "<p>3 rows × 21 columns</p>\n",
       "</div>"
      ],
      "text/plain": [
       "   mean_fit_time  mean_test_mae  mean_test_rmse  mean_test_time  param_biased  \\\n",
       "0      11.532697       0.789348        1.001163        0.554731          True   \n",
       "1      11.506467       0.793887        1.008541        0.484650          True   \n",
       "2      11.257950       0.800257        1.019294        0.461989          True   \n",
       "\n",
       "   param_lr_all                             params  rank_test_mae  \\\n",
       "0         0.004  {'lr_all': 0.004, 'biased': True}              1   \n",
       "1         0.006  {'lr_all': 0.006, 'biased': True}              2   \n",
       "2         0.008  {'lr_all': 0.008, 'biased': True}              3   \n",
       "\n",
       "   rank_test_rmse  split0_test_mae      ...        split1_test_mae  \\\n",
       "0               1         0.790500      ...               0.787480   \n",
       "1               2         0.795748      ...               0.792210   \n",
       "2               3         0.801708      ...               0.797401   \n",
       "\n",
       "   split1_test_rmse  split2_test_mae  split2_test_rmse  split3_test_mae  \\\n",
       "0          0.998988         0.792672          1.004888         0.786738   \n",
       "1          1.007129         0.796632          1.011620         0.790959   \n",
       "2          1.015323         0.802754          1.022607         0.799165   \n",
       "\n",
       "   split3_test_rmse  std_fit_time  std_test_mae  std_test_rmse  std_test_time  \n",
       "0          0.998761      0.173237      0.002381       0.002505       0.061423  \n",
       "1          1.005535      0.118091      0.002365       0.002361       0.074155  \n",
       "2          1.018530      0.114607      0.002103       0.002709       0.059586  \n",
       "\n",
       "[3 rows x 21 columns]"
      ]
     },
     "execution_count": 85,
     "metadata": {},
     "output_type": "execute_result"
    }
   ],
   "source": [
    "#tuning learning rate\n",
    "param_grid = {'biased': [True], 'lr_all': [0.004,0.006,0.008]}\n",
    "gs = GridSearchCV(SVD, param_grid, measures=['rmse', 'mae'], cv=4)\n",
    "\n",
    "gs.fit(data_original)\n",
    "\n",
    "results_df = pd.DataFrame.from_dict(gs.cv_results)\n",
    "results_df.to_csv('results.csv')\n",
    "\n",
    "results_df"
   ]
  },
  {
   "cell_type": "code",
   "execution_count": 87,
   "metadata": {},
   "outputs": [
    {
     "data": {
      "text/html": [
       "<div>\n",
       "<style>\n",
       "    .dataframe thead tr:only-child th {\n",
       "        text-align: right;\n",
       "    }\n",
       "\n",
       "    .dataframe thead th {\n",
       "        text-align: left;\n",
       "    }\n",
       "\n",
       "    .dataframe tbody tr th {\n",
       "        vertical-align: top;\n",
       "    }\n",
       "</style>\n",
       "<table border=\"1\" class=\"dataframe\">\n",
       "  <thead>\n",
       "    <tr style=\"text-align: right;\">\n",
       "      <th></th>\n",
       "      <th>mean_fit_time</th>\n",
       "      <th>mean_test_mae</th>\n",
       "      <th>mean_test_rmse</th>\n",
       "      <th>mean_test_time</th>\n",
       "      <th>param_biased</th>\n",
       "      <th>param_lr_all</th>\n",
       "      <th>param_reg_all</th>\n",
       "      <th>params</th>\n",
       "      <th>rank_test_mae</th>\n",
       "      <th>rank_test_rmse</th>\n",
       "      <th>...</th>\n",
       "      <th>split1_test_mae</th>\n",
       "      <th>split1_test_rmse</th>\n",
       "      <th>split2_test_mae</th>\n",
       "      <th>split2_test_rmse</th>\n",
       "      <th>split3_test_mae</th>\n",
       "      <th>split3_test_rmse</th>\n",
       "      <th>std_fit_time</th>\n",
       "      <th>std_test_mae</th>\n",
       "      <th>std_test_rmse</th>\n",
       "      <th>std_test_time</th>\n",
       "    </tr>\n",
       "  </thead>\n",
       "  <tbody>\n",
       "    <tr>\n",
       "      <th>0</th>\n",
       "      <td>11.199602</td>\n",
       "      <td>0.786865</td>\n",
       "      <td>0.997799</td>\n",
       "      <td>0.468648</td>\n",
       "      <td>True</td>\n",
       "      <td>0.004</td>\n",
       "      <td>0.05</td>\n",
       "      <td>{'lr_all': 0.004, 'reg_all': 0.05, 'biased': T...</td>\n",
       "      <td>2</td>\n",
       "      <td>3</td>\n",
       "      <td>...</td>\n",
       "      <td>0.782621</td>\n",
       "      <td>0.992255</td>\n",
       "      <td>0.786679</td>\n",
       "      <td>1.000793</td>\n",
       "      <td>0.788615</td>\n",
       "      <td>1.000121</td>\n",
       "      <td>0.216436</td>\n",
       "      <td>0.002659</td>\n",
       "      <td>0.003359</td>\n",
       "      <td>0.046864</td>\n",
       "    </tr>\n",
       "    <tr>\n",
       "      <th>1</th>\n",
       "      <td>10.755691</td>\n",
       "      <td>0.785796</td>\n",
       "      <td>0.995958</td>\n",
       "      <td>0.453013</td>\n",
       "      <td>True</td>\n",
       "      <td>0.004</td>\n",
       "      <td>0.10</td>\n",
       "      <td>{'lr_all': 0.004, 'reg_all': 0.1, 'biased': True}</td>\n",
       "      <td>1</td>\n",
       "      <td>1</td>\n",
       "      <td>...</td>\n",
       "      <td>0.781666</td>\n",
       "      <td>0.990679</td>\n",
       "      <td>0.785995</td>\n",
       "      <td>0.999847</td>\n",
       "      <td>0.787453</td>\n",
       "      <td>0.997483</td>\n",
       "      <td>0.154139</td>\n",
       "      <td>0.002500</td>\n",
       "      <td>0.003367</td>\n",
       "      <td>0.063429</td>\n",
       "    </tr>\n",
       "    <tr>\n",
       "      <th>2</th>\n",
       "      <td>10.710359</td>\n",
       "      <td>0.787802</td>\n",
       "      <td>0.996667</td>\n",
       "      <td>0.425690</td>\n",
       "      <td>True</td>\n",
       "      <td>0.004</td>\n",
       "      <td>0.20</td>\n",
       "      <td>{'lr_all': 0.004, 'reg_all': 0.2, 'biased': True}</td>\n",
       "      <td>3</td>\n",
       "      <td>2</td>\n",
       "      <td>...</td>\n",
       "      <td>0.783489</td>\n",
       "      <td>0.991352</td>\n",
       "      <td>0.787875</td>\n",
       "      <td>1.000149</td>\n",
       "      <td>0.789234</td>\n",
       "      <td>0.998132</td>\n",
       "      <td>0.128048</td>\n",
       "      <td>0.002671</td>\n",
       "      <td>0.003265</td>\n",
       "      <td>0.074434</td>\n",
       "    </tr>\n",
       "  </tbody>\n",
       "</table>\n",
       "<p>3 rows × 22 columns</p>\n",
       "</div>"
      ],
      "text/plain": [
       "   mean_fit_time  mean_test_mae  mean_test_rmse  mean_test_time  param_biased  \\\n",
       "0      11.199602       0.786865        0.997799        0.468648          True   \n",
       "1      10.755691       0.785796        0.995958        0.453013          True   \n",
       "2      10.710359       0.787802        0.996667        0.425690          True   \n",
       "\n",
       "   param_lr_all  param_reg_all  \\\n",
       "0         0.004           0.05   \n",
       "1         0.004           0.10   \n",
       "2         0.004           0.20   \n",
       "\n",
       "                                              params  rank_test_mae  \\\n",
       "0  {'lr_all': 0.004, 'reg_all': 0.05, 'biased': T...              2   \n",
       "1  {'lr_all': 0.004, 'reg_all': 0.1, 'biased': True}              1   \n",
       "2  {'lr_all': 0.004, 'reg_all': 0.2, 'biased': True}              3   \n",
       "\n",
       "   rank_test_rmse      ...        split1_test_mae  split1_test_rmse  \\\n",
       "0               3      ...               0.782621          0.992255   \n",
       "1               1      ...               0.781666          0.990679   \n",
       "2               2      ...               0.783489          0.991352   \n",
       "\n",
       "   split2_test_mae  split2_test_rmse  split3_test_mae  split3_test_rmse  \\\n",
       "0         0.786679          1.000793         0.788615          1.000121   \n",
       "1         0.785995          0.999847         0.787453          0.997483   \n",
       "2         0.787875          1.000149         0.789234          0.998132   \n",
       "\n",
       "   std_fit_time  std_test_mae  std_test_rmse  std_test_time  \n",
       "0      0.216436      0.002659       0.003359       0.046864  \n",
       "1      0.154139      0.002500       0.003367       0.063429  \n",
       "2      0.128048      0.002671       0.003265       0.074434  \n",
       "\n",
       "[3 rows x 22 columns]"
      ]
     },
     "execution_count": 87,
     "metadata": {},
     "output_type": "execute_result"
    }
   ],
   "source": [
    "#tuning reguralization\n",
    "param_grid = {'biased': [True], 'lr_all': [0.004], 'reg_all' : [0.05,0.1,0.2]}\n",
    "gs = GridSearchCV(SVD, param_grid, measures=['rmse', 'mae'], cv=4)\n",
    "\n",
    "gs.fit(data_original)\n",
    "\n",
    "results_df = pd.DataFrame.from_dict(gs.cv_results)\n",
    "results_df.to_csv('results.csv')\n",
    "\n",
    "results_df"
   ]
  },
  {
   "cell_type": "code",
   "execution_count": null,
   "metadata": {},
   "outputs": [],
   "source": []
  },
  {
   "cell_type": "code",
   "execution_count": null,
   "metadata": {},
   "outputs": [],
   "source": [
    "algo = SVD(lr_all=0.004,reg_all=0.1)\n",
    "#evaluate(algo, data, measures=['RMSE'])\n",
    "cross_validate(algo, data_original, measures=['RMSE','MAE'], cv=4, verbose=True, return_train_measures=True)"
   ]
  },
  {
   "cell_type": "code",
   "execution_count": null,
   "metadata": {},
   "outputs": [],
   "source": [
    "data = data_original\n",
    "algo = SVD()\n",
    "trainset = data.build_full_trainset()\n",
    "model= algo.fit(trainset)"
   ]
  },
  {
   "cell_type": "code",
   "execution_count": null,
   "metadata": {},
   "outputs": [],
   "source": [
    "import pickle\n",
    "filename = 'finalized_model.sav'\n",
    "pickle.dump(model, open(filename, 'wb'))"
   ]
  },
  {
   "cell_type": "code",
   "execution_count": null,
   "metadata": {},
   "outputs": [],
   "source": []
  },
  {
   "cell_type": "code",
   "execution_count": null,
   "metadata": {},
   "outputs": [],
   "source": []
  },
  {
   "cell_type": "code",
   "execution_count": null,
   "metadata": {},
   "outputs": [],
   "source": []
  },
  {
   "cell_type": "code",
   "execution_count": null,
   "metadata": {},
   "outputs": [],
   "source": []
  },
  {
   "cell_type": "code",
   "execution_count": null,
   "metadata": {},
   "outputs": [],
   "source": []
  },
  {
   "cell_type": "code",
   "execution_count": null,
   "metadata": {},
   "outputs": [],
   "source": []
  },
  {
   "cell_type": "code",
   "execution_count": null,
   "metadata": {},
   "outputs": [],
   "source": []
  },
  {
   "cell_type": "code",
   "execution_count": null,
   "metadata": {},
   "outputs": [],
   "source": []
  },
  {
   "cell_type": "code",
   "execution_count": null,
   "metadata": {},
   "outputs": [],
   "source": []
  },
  {
   "cell_type": "code",
   "execution_count": null,
   "metadata": {},
   "outputs": [],
   "source": []
  },
  {
   "cell_type": "code",
   "execution_count": null,
   "metadata": {},
   "outputs": [],
   "source": []
  },
  {
   "cell_type": "code",
   "execution_count": null,
   "metadata": {},
   "outputs": [],
   "source": []
  },
  {
   "cell_type": "code",
   "execution_count": null,
   "metadata": {},
   "outputs": [],
   "source": []
  },
  {
   "cell_type": "code",
   "execution_count": null,
   "metadata": {},
   "outputs": [],
   "source": []
  },
  {
   "cell_type": "code",
   "execution_count": null,
   "metadata": {},
   "outputs": [],
   "source": []
  }
 ],
 "metadata": {
  "kernelspec": {
   "display_name": "Python 3",
   "language": "python",
   "name": "python3"
  },
  "language_info": {
   "codemirror_mode": {
    "name": "ipython",
    "version": 3
   },
   "file_extension": ".py",
   "mimetype": "text/x-python",
   "name": "python",
   "nbconvert_exporter": "python",
   "pygments_lexer": "ipython3",
   "version": "3.5.2"
  }
 },
 "nbformat": 4,
 "nbformat_minor": 4
}
